{
 "cells": [
  {
   "cell_type": "code",
   "execution_count": 59,
   "metadata": {},
   "outputs": [
    {
     "data": {
      "text/plain": [
       "one_fight (generic function with 1 method)"
      ]
     },
     "execution_count": 59,
     "metadata": {},
     "output_type": "execute_result"
    }
   ],
   "source": [
    "include(\"./silq_simulation_functions.jl\")"
   ]
  },
  {
   "cell_type": "code",
   "execution_count": null,
   "metadata": {},
   "outputs": [],
   "source": [
    "function calculate_base_stats(;house,\n",
    "                              investment_strength,\n",
    "                              investment_dexterity,\n",
    "                              investment_constitution,\n",
    "                              investment_grace,\n",
    "                              max_points = 13):\n",
    "    point_total = investment_constitution+investment_dexterity+investment_strength+investment_grace\n",
    "    if point_total > 13\n",
    "        return (-1, -1, -1, -1)\n",
    "\n",
    "    if house \n",
    "        \n"
   ]
  },
  {
   "cell_type": "code",
   "execution_count": 83,
   "metadata": {},
   "outputs": [
    {
     "data": {
      "text/plain": [
       "0.84151"
      ]
     },
     "execution_count": 83,
     "metadata": {},
     "output_type": "execute_result"
    }
   ],
   "source": [
    "\n",
    "n_rounds = 100000\n",
    "outcomes = ones(n_rounds)\n",
    " \n",
    "for i in 1:n_rounds\n",
    "    outcome = one_fight(constitution=4,\n",
    "    melee=10,\n",
    "    evasion=10,\n",
    "    dict_weapon=great_axe,\n",
    "    strength=3,\n",
    "    concentration=false,\n",
    "    perception_concentration=0,\n",
    "    finess=false,\n",
    "    power=false,\n",
    "    subtlety=false,\n",
    "    smite=false,\n",
    "    balanced=false,\n",
    "    function_my_armour=my_armour,\n",
    "    function_enemy=function_orc_skirmisher,\n",
    "    debug=0)\n",
    "    outcomes[i] = outcome\n",
    "end\n",
    " \n",
    "sum(outcomes)/length(outcomes)"
   ]
  },
  {
   "cell_type": "code",
   "execution_count": 87,
   "metadata": {},
   "outputs": [
    {
     "data": {
      "text/plain": [
       "-1"
      ]
     },
     "execution_count": 87,
     "metadata": {},
     "output_type": "execute_result"
    }
   ],
   "source": [
    "min(0,-1)"
   ]
  },
  {
   "cell_type": "code",
   "execution_count": 86,
   "metadata": {},
   "outputs": [
    {
     "data": {
      "text/plain": [
       "10000-element Vector{Float64}:\n",
       " 0.0\n",
       " 0.0\n",
       " 0.0\n",
       " 0.0\n",
       " 0.0\n",
       " 0.0\n",
       " 0.0\n",
       " 1.0\n",
       " 0.0\n",
       " 1.0\n",
       " 1.0\n",
       " 0.0\n",
       " 0.0\n",
       " ⋮\n",
       " 0.0\n",
       " 0.0\n",
       " 0.0\n",
       " 0.0\n",
       " 0.0\n",
       " 0.0\n",
       " 1.0\n",
       " 0.0\n",
       " 0.0\n",
       " 0.0\n",
       " 1.0\n",
       " 1.0"
      ]
     },
     "execution_count": 86,
     "metadata": {},
     "output_type": "execute_result"
    }
   ],
   "source": [
    "\n",
    "function simulation(n_outcomes)\n",
    "    outcomes = ones(n_outcomes)\n",
    "    Threads.@threads for i in 1:length(outcomes)\n",
    "        outcome = one_fight(constitution=4,\n",
    "        melee=10,\n",
    "        evasion=10,\n",
    "        dict_weapon=shortsword,\n",
    "        strength=3,\n",
    "        concentration=false,\n",
    "        perception_concentration=0,\n",
    "        finess=false,\n",
    "        power=false,\n",
    "        subtlety=false,\n",
    "        smite=false,\n",
    "        balanced=false,\n",
    "        function_my_armour=my_armour,\n",
    "        function_enemy=function_orc_skirmisher,\n",
    "        debug=0)\n",
    "        outcomes[i] = outcome\n",
    "    end\n",
    "    return outcomes\n",
    "end"
   ]
  }
 ],
 "metadata": {
  "kernelspec": {
   "display_name": "Julia 1.8.5",
   "language": "julia",
   "name": "julia-1.8"
  },
  "language_info": {
   "file_extension": ".jl",
   "mimetype": "application/julia",
   "name": "julia",
   "version": "1.8.5"
  },
  "orig_nbformat": 4
 },
 "nbformat": 4,
 "nbformat_minor": 2
}
