{
 "cells": [
  {
   "cell_type": "code",
   "execution_count": 1,
   "metadata": {},
   "outputs": [
    {
     "data": {
      "text/plain": [
       "one_fight (generic function with 1 method)"
      ]
     },
     "execution_count": 1,
     "metadata": {},
     "output_type": "execute_result"
    }
   ],
   "source": [
    "include(\"./silq_simulation_functions.jl\")"
   ]
  },
  {
   "cell_type": "code",
   "execution_count": null,
   "metadata": {},
   "outputs": [],
   "source": [
    "function calculate_base_stats(;house,\n",
    "                              investment_strength,\n",
    "                              investment_dexterity,\n",
    "                              investment_constitution,\n",
    "                              investment_grace,\n",
    "                              max_points = 13):\n",
    "    point_total = investment_constitution+investment_dexterity+investment_strength+investment_grace\n",
    "    if point_total > 13\n",
    "        return (-1, -1, -1, -1)\n",
    "\n",
    "    if house \n",
    "        \n"
   ]
  },
  {
   "cell_type": "code",
   "execution_count": 103,
   "metadata": {},
   "outputs": [
    {
     "data": {
      "text/plain": [
       "0.5125"
      ]
     },
     "execution_count": 103,
     "metadata": {},
     "output_type": "execute_result"
    }
   ],
   "source": [
    "\n",
    "\n",
    "outcomes = ones(100000)\n",
    " \n",
    "Threads.@threads for i in 1:100000\n",
    "    outcome = one_fight(constitution=5,\n",
    "    melee=22-3+4,\n",
    "    evasion=23-3+4,\n",
    "    function_weapon=great_sword,\n",
    "    strength=3,\n",
    "    concentration=false,\n",
    "    perception_concentration=0,\n",
    "    finess=false,\n",
    "    power=false,\n",
    "    subtlety=false,\n",
    "    smite=true,\n",
    "    balanced=true,\n",
    "    function_my_armour=my_armour,\n",
    "    function_enemy=function_belegwath,\n",
    "    debug=0)\n",
    "    outcomes[i] = outcome\n",
    "end\n",
    " \n",
    "sum(outcomes)/length(outcomes)"
   ]
  }
 ],
 "metadata": {
  "kernelspec": {
   "display_name": "Julia 1.8.5",
   "language": "julia",
   "name": "julia-1.8"
  },
  "language_info": {
   "file_extension": ".jl",
   "mimetype": "application/julia",
   "name": "julia",
   "version": "1.8.5"
  },
  "orig_nbformat": 4
 },
 "nbformat": 4,
 "nbformat_minor": 2
}
